{
  "cells": [
    {
      "cell_type": "markdown",
      "metadata": {},
      "source": [
        "# サンプルノートブック\\n",
        "このノートブックはアプリ内プレビューのテスト用です。"
      ]
    },
    {
      "cell_type": "code",
      "execution_count": 1,
      "metadata": {},
      "outputs": [
        {
          "output_type": "stream",
          "name": "stdout",
          "text": [
            "hello notebook\\n"
          ]
        }
      ],
      "source": [
        "message = 'hello notebook'\\n",
        "print(message)"
      ]
    },
    {
      "cell_type": "code",
      "execution_count": null,
      "metadata": {
        "collapsed": true
      },
      "outputs": [],
      "source": [
        "def square(x):\\n",
        "    \"\"\"Return the square of x.\"\"\"\\n",
        "    return x * x\\n",
        "\\n",
        "square(3)"
      ]
    }
  ],
  "metadata": {
    "kernelspec": {
      "display_name": "Python 3",
      "language": "python",
      "name": "python3"
    },
    "language_info": {
      "codemirror_mode": {
        "name": "ipython",
        "version": 3
      },
      "file_extension": ".py",
      "mimetype": "text/x-python",
      "name": "python",
      "nbconvert_exporter": "python",
      "pygments_lexer": "ipython3",
      "version": "3.10.0"
    }
  },
  "nbformat": 4,
  "nbformat_minor": 5
}
